{
 "cells": [
  {
   "cell_type": "markdown",
   "metadata": {
    "toc": true
   },
   "source": [
    "<h1>Table of Contents<span class=\"tocSkip\"></span></h1>\n",
    "<div class=\"toc\"><ul class=\"toc-item\"><li><span><a href=\"#Solution-Summary\" data-toc-modified-id=\"Solution-Summary-1\"><span class=\"toc-item-num\">1&nbsp;&nbsp;</span>Solution Summary</a></span></li><li><span><a href=\"#Load-Data-and-Function-Definitions\" data-toc-modified-id=\"Load-Data-and-Function-Definitions-2\"><span class=\"toc-item-num\">2&nbsp;&nbsp;</span>Load Data and Function Definitions</a></span></li><li><span><a href=\"#Grouping-Base-Stations\" data-toc-modified-id=\"Grouping-Base-Stations-3\"><span class=\"toc-item-num\">3&nbsp;&nbsp;</span>Grouping Base Stations</a></span></li><li><span><a href=\"#Pseudo-Labeling\" data-toc-modified-id=\"Pseudo-Labeling-4\"><span class=\"toc-item-num\">4&nbsp;&nbsp;</span>Pseudo Labeling</a></span><ul class=\"toc-item\"><li><span><a href=\"#Label-Type11\" data-toc-modified-id=\"Label-Type11-4.1\"><span class=\"toc-item-num\">4.1&nbsp;&nbsp;</span>Label Type11</a></span></li><li><span><a href=\"#Label-Type12\" data-toc-modified-id=\"Label-Type12-4.2\"><span class=\"toc-item-num\">4.2&nbsp;&nbsp;</span>Label Type12</a></span></li></ul></li><li><span><a href=\"#Preprocessing\" data-toc-modified-id=\"Preprocessing-5\"><span class=\"toc-item-num\">5&nbsp;&nbsp;</span>Preprocessing</a></span></li><li><span><a href=\"#Training-for-seen-stations\" data-toc-modified-id=\"Training-for-seen-stations-6\"><span class=\"toc-item-num\">6&nbsp;&nbsp;</span>Training for seen stations</a></span><ul class=\"toc-item\"><li><span><a href=\"#The-importance-of-all-27-features\" data-toc-modified-id=\"The-importance-of-all-27-features-6.1\"><span class=\"toc-item-num\">6.1&nbsp;&nbsp;</span>The importance of all 27 features</a></span></li></ul></li><li><span><a href=\"#Training-for-unseen-stations\" data-toc-modified-id=\"Training-for-unseen-stations-7\"><span class=\"toc-item-num\">7&nbsp;&nbsp;</span>Training for unseen stations</a></span><ul class=\"toc-item\"><li><span><a href=\"#Top-10-important-features\" data-toc-modified-id=\"Top-10-important-features-7.1\"><span class=\"toc-item-num\">7.1&nbsp;&nbsp;</span>Top 10 important features</a></span></li></ul></li><li><span><a href=\"#Submission\" data-toc-modified-id=\"Submission-8\"><span class=\"toc-item-num\">8&nbsp;&nbsp;</span>Submission</a></span></li></ul></div>"
   ]
  },
  {
   "cell_type": "code",
   "execution_count": 1,
   "metadata": {},
   "outputs": [],
   "source": [
    "import matplotlib.pyplot as plt\n",
    "import numpy as np\n",
    "import pandas as pd\n",
    "import seaborn as sns\n",
    "\n",
    "sns.set(style=\"darkgrid\")\n",
    "pd.set_option('display.max_columns', 300)\n",
    "pd.set_option('display.max_rows', 200)\n",
    "pd.set_option('max_colwidth', 800)\n",
    "pd.options.display.float_format = '{:.4f}'.format\n",
    "import warnings\n",
    "warnings.filterwarnings(\"ignore\")\n",
    "\n",
    "import random\n",
    "from sklearn.linear_model import HuberRegressor, LinearRegression"
   ]
  },
  {
   "cell_type": "markdown",
   "metadata": {},
   "source": [
    "## Solution Summary\n",
    "\n",
    "* Not use any historical and future data.\n",
    "* Use less than 30 easy features, including configuration settings, load, hour and day. Complicated features such as aggregation, frequency encoding, target encoding can introduce leakage of future info.\n",
    "* Train separate models for seen rutypes and unseen rutypes stations.\n",
    "* Pseudo labeling 3 stations of Type11 and Type12 based on assumptions learned from EDA and analytic models from linear regression."
   ]
  },
  {
   "cell_type": "markdown",
   "metadata": {},
   "source": [
    "## Load Data and Function Definitions\n",
    "\n",
    "* Only use provide data\n",
    "* Only need sklearn and lightgbm packages"
   ]
  },
  {
   "cell_type": "code",
   "execution_count": 2,
   "metadata": {},
   "outputs": [],
   "source": [
    "def rename_columns(df):\n",
    "    df.rename(columns=lambda x: x.lower().replace(' ', '_'), inplace=True)\n",
    "    return df\n",
    "\n",
    "bsinfo_raw = pd.read_csv('data/BSinfo.csv')\n",
    "cell_raw = pd.read_csv('data/CLdata.csv')\n",
    "energy_raw = pd.read_csv('data/ECdata.csv')\n",
    "test_raw = pd.read_csv('data/test.csv')\n",
    "\n",
    "bsinfo = rename_columns(bsinfo_raw)\n",
    "cell = rename_columns(cell_raw)\n",
    "energy = rename_columns(energy_raw)\n",
    "test = rename_columns(test_raw)"
   ]
  },
  {
   "cell_type": "code",
   "execution_count": 3,
   "metadata": {},
   "outputs": [],
   "source": [
    "cell['time'] = pd.to_datetime(cell['time'])\n",
    "energy['time'] = pd.to_datetime(energy['time'])\n",
    "test['time'] = pd.to_datetime(test['time'])\n",
    "\n",
    "#esmode4 is never used, esmode5 only used in 3 instances.\n",
    "cell = cell.drop(['esmode4','esmode5'],axis=1).sort_values('time')\n",
    "energy = energy.sort_values('time')\n",
    "test = test.sort_values('time')"
   ]
  },
  {
   "cell_type": "code",
   "execution_count": 4,
   "metadata": {},
   "outputs": [],
   "source": [
    "#use cell0 info as the basics\n",
    "bsinfo_agg = bsinfo.groupby(['bs']).agg({'mode':'first','rutype':'first','bs':'size'}).rename({'bs':'cell_count'},axis=1)\n",
    "bsinfo_agg = bsinfo_agg.join(bsinfo[bsinfo['cellname']=='Cell0'].groupby(['bs'])['antennas','txpower','frequency','bandwidth'].first())\n",
    "bsinfo_agg['antenna-txpower'] = bsinfo_agg['antennas'].astype(str)+'-'+np.round(bsinfo_agg['txpower'],1).astype(str)\n",
    "bsinfo_agg['freq-band'] = bsinfo_agg['frequency'].astype(str)+'-'+bsinfo_agg['bandwidth'].astype(str)"
   ]
  },
  {
   "cell_type": "code",
   "execution_count": 5,
   "metadata": {},
   "outputs": [],
   "source": [
    "import lightgbm as lgb\n",
    "from sklearn.model_selection import train_test_split,KFold,StratifiedKFold,TimeSeriesSplit,GroupKFold\n",
    "from sklearn.metrics import mean_squared_error,roc_curve, auc, confusion_matrix, r2_score, mean_absolute_error \n",
    "\n",
    "def lgbm_cv(train_df, target, features, n_splits = 5, groups=None, params=None, random_state=42, shuffle=True, sample_weight=None, kfold = True,verbose=True):        \n",
    "    models = []    \n",
    "    \n",
    "    if groups is None:\n",
    "        if kfold:\n",
    "            folds = KFold(n_splits=n_splits, shuffle=shuffle, random_state=random_state)\n",
    "        else:\n",
    "            folds = StratifiedKFold(n_splits=n_splits, shuffle=shuffle, random_state=random_state)\n",
    "    else:\n",
    "        folds = GroupKFold(n_splits=n_splits)\n",
    "        \n",
    "    oof = np.zeros(len(train_df))  \n",
    "    fold = np.zeros(len(train_df))        \n",
    "    feature_importance_df = pd.DataFrame()\n",
    "    fold_scores = []\n",
    "    \n",
    "    for fold_, (trn_idx, val_idx) in enumerate(folds.split(train_df.values, target,groups)):\n",
    "        if verbose: print('fold:'+ str(fold_))\n",
    "        trn_data = lgb.Dataset(train_df.iloc[trn_idx][features], label=target[trn_idx])\n",
    "        val_data = lgb.Dataset(train_df.iloc[val_idx][features], label=target[val_idx])\n",
    "\n",
    "        if sample_weight is not None:\n",
    "            trn_data.set_weight(sample_weight[trn_idx])\n",
    "            val_data.set_weight(sample_weight[val_idx])\n",
    "        if verbose:    \n",
    "            verbose_eval = 5000\n",
    "        else:\n",
    "            verbose_eval = -1\n",
    "            \n",
    "        clf = lgb.train(params, trn_data, 50000, valid_sets = [trn_data, val_data], verbose_eval=verbose_eval, early_stopping_rounds = 200)\n",
    "        oof[val_idx] = clf.predict(train_df.iloc[val_idx][features], num_iteration=clf.best_iteration)\n",
    "        fold_scores.append(mean_absolute_error(target[val_idx],oof[val_idx]))        \n",
    "        \n",
    "        models.append(clf)\n",
    "        fold_importance_df = pd.DataFrame()\n",
    "        fold_importance_df[\"feature\"] = features\n",
    "        fold_importance_df[\"importance\"] = np.log1p(clf.feature_importance(importance_type='gain', iteration=clf.best_iteration))\n",
    "        fold_importance_df[\"fold\"] = fold_ + 1\n",
    "        feature_importance_df = pd.concat([feature_importance_df, fold_importance_df], axis=0)\n",
    "\n",
    "    feature_importance_df = feature_importance_df[[\"feature\", \"importance\"]].groupby(\"feature\").mean().sort_values('importance',ascending=False)    \n",
    "    return feature_importance_df, oof, models,fold_scores "
   ]
  },
  {
   "cell_type": "markdown",
   "metadata": {},
   "source": [
    "## Grouping Base Stations \n",
    "\n",
    "* Grouping from configuration perspective, find nearest neighbors with same settings for each station"
   ]
  },
  {
   "cell_type": "code",
   "execution_count": 6,
   "metadata": {},
   "outputs": [],
   "source": [
    "bsinfo['txpower_round'] = bsinfo['txpower'].round(2)\n",
    "#nearest neighbor dataframe\n",
    "nn_df = pd.DataFrame(index=bsinfo['bs'].unique())\n",
    "\n",
    "#single cell\n",
    "for bs in bsinfo_agg[bsinfo_agg['cell_count']==1].index.values:    \n",
    "    bs_dict = bsinfo[(bsinfo['bs']==bs) & (bsinfo['cellname']=='Cell0')].to_dict('records')[0]    \n",
    "    bs_array = bsinfo[(bsinfo['bs'].isin(bsinfo_agg[bsinfo_agg['cell_count']==1].index))\n",
    "       & (bsinfo['cellname']=='Cell0') & (bsinfo['rutype']==bs_dict['rutype']) & (bsinfo['frequency']==bs_dict['frequency']) \n",
    "       & (bsinfo['bandwidth']==bs_dict['bandwidth']) & (bsinfo['antennas']==bs_dict['antennas'])\n",
    "       & (bsinfo['txpower_round']==bs_dict['txpower_round'])]['bs'].values        \n",
    "    nn_df.at[bs,'config'] = bs_array    \n",
    "\n",
    "#double cells\n",
    "for bs in bsinfo_agg[bsinfo_agg['cell_count']==2].index.values:        \n",
    "    bs_dict = bsinfo[(bsinfo['bs']==bs) & (bsinfo['cellname']=='Cell0')].to_dict('records')[0]    \n",
    "    bs_array_cell0 = bsinfo[(bsinfo['bs'].isin(bsinfo_agg[bsinfo_agg['cell_count']==2].index))\n",
    "       & (bsinfo['cellname']=='Cell0') & (bsinfo['rutype']==bs_dict['rutype']) & (bsinfo['frequency']==bs_dict['frequency']) \n",
    "       & (bsinfo['bandwidth']==bs_dict['bandwidth']) & (bsinfo['antennas']==bs_dict['antennas'])\n",
    "       & (bsinfo['txpower_round']==bs_dict['txpower_round'])]['bs'].values\n",
    "    \n",
    "    bs_dict = bsinfo[(bsinfo['bs']==bs) & (bsinfo['cellname']=='Cell1')].to_dict('records')[0]    \n",
    "    bs_array_cell1 = bsinfo[(bsinfo['bs'].isin(bsinfo_agg[bsinfo_agg['cell_count']==2].index))\n",
    "       & (bsinfo['cellname']=='Cell1') & (bsinfo['rutype']==bs_dict['rutype']) & (bsinfo['frequency']==bs_dict['frequency']) \n",
    "       & (bsinfo['bandwidth']==bs_dict['bandwidth']) & (bsinfo['antennas']==bs_dict['antennas'])\n",
    "       & (bsinfo['txpower_round']==bs_dict['txpower_round'])]['bs'].values\n",
    "    \n",
    "    nn_df.at[bs,'config'] = np.intersect1d(bs_array_cell0,bs_array_cell1)     \n",
    "    \n",
    "#four cells\n",
    "nn_df.at['B_105','config'] = ['B_105','B_745']\n",
    "nn_df.at['B_745','config'] = ['B_105','B_745']\n",
    "\n",
    "#convert to categorical column\n",
    "nn_df['config_group'] = nn_df['config'].astype(str).astype('category')"
   ]
  },
  {
   "cell_type": "markdown",
   "metadata": {},
   "source": [
    "## Pseudo Labeling\n",
    "\n",
    "* Type11 and Type12 are almost brand new rutypes (only 1 sample for each type in train)\n",
    "* We pseudo label three base stations based on assumptions learned from EDA and analytic models (a separate notebook)."
   ]
  },
  {
   "cell_type": "code",
   "execution_count": 7,
   "metadata": {},
   "outputs": [],
   "source": [
    "regression_df = cell.merge(energy,how='left',left_on=['bs','time'],right_on=['bs','time'])\n",
    "regression_df = regression_df[(regression_df['energy'].notna())]\n",
    "\n",
    "energy_new = pd.DataFrame()\n",
    "\n",
    "def plot_base(bs, time, load, energy):    \n",
    "    plt.figure(figsize=(12,2))\n",
    "    plt.plot(time, load*100, label='load*100')\n",
    "    plt.plot(time, energy,label='energy filled')    \n",
    "    plt.title(bs)\n",
    "    plt.legend(loc='lower right')\n",
    "    plt.show()    "
   ]
  },
  {
   "cell_type": "markdown",
   "metadata": {},
   "source": [
    "### Label Type11"
   ]
  },
  {
   "cell_type": "code",
   "execution_count": 8,
   "metadata": {},
   "outputs": [
    {
     "name": "stdout",
     "output_type": "stream",
     "text": [
      "0.5348843272642081 [116.51287644] 8.530325173491203\n",
      "0.948328142652739 [57.76838916] 21.225577985414347\n"
     ]
    }
   ],
   "source": [
    "bs_list = bsinfo[(bsinfo['rutype']=='Type10') & (bsinfo['txpower']>8.046)]['bs'].unique()\n",
    "\n",
    "reg = regression_df[(regression_df['bs'].isin(bs_list)) & ((regression_df['load']<0.1))]\n",
    "X = reg['load'].values.reshape(-1, 1)\n",
    "y = reg['energy']\n",
    "\n",
    "linear11_low = LinearRegression().fit(X, y)\n",
    "print(linear11_low.score(X, y), linear11_low.coef_, linear11_low.intercept_)\n",
    "\n",
    "reg = regression_df[(regression_df['bs'].isin(bs_list)) & ((regression_df['load']>0.1))]\n",
    "X = reg['load'].values.reshape(-1, 1)\n",
    "y = reg['energy']\n",
    "linear11_high = LinearRegression().fit(X, y)\n",
    "print(linear11_high.score(X, y), linear11_high.coef_, linear11_high.intercept_)"
   ]
  },
  {
   "cell_type": "code",
   "execution_count": 9,
   "metadata": {},
   "outputs": [
    {
     "data": {
      "image/png": "[encoded data removed]",
      "text/plain": [
       "<Figure size 864x144 with 1 Axes>"
      ]
     },
     "metadata": {
      "needs_background": "light"
     },
     "output_type": "display_data"
    }
   ],
   "source": [
    "bs = 'B_835'\n",
    "base = cell[(cell['bs']==bs)] \n",
    "energy_filled = linear11_high.predict(base['load'].values.reshape(-1, 1))\n",
    "\n",
    "#append to new energy dataframe\n",
    "energy_bs = test[test['bs']==bs].copy()\n",
    "energy_bs['energy'] = energy_filled[1:]\n",
    "energy_new = energy_new.append(energy_bs[['time','bs','energy']])\n",
    "\n",
    "plot_base(bs,base['time'].values,base['load'].values,energy_filled)"
   ]
  },
  {
   "cell_type": "code",
   "execution_count": 10,
   "metadata": {},
   "outputs": [
    {
     "data": {
      "image/png": "[encoded data removed]",
      "text/plain": [
       "<Figure size 864x144 with 1 Axes>"
      ]
     },
     "metadata": {
      "needs_background": "light"
     },
     "output_type": "display_data"
    }
   ],
   "source": [
    "bs= 'B_942'\n",
    "base = cell[(cell['bs']==bs)] \n",
    "energy_filled = linear11_low.predict(base['load'].values.reshape(-1, 1))\n",
    "\n",
    "#append to new energy dataframe\n",
    "energy_bs = test[test['bs']==bs].copy()\n",
    "energy_bs['energy'] = energy_filled\n",
    "energy_new = energy_new.append(energy_bs[['time','bs','energy']])\n",
    "\n",
    "plot_base(bs,base['time'].values,base['load'].values,energy_filled)"
   ]
  },
  {
   "cell_type": "markdown",
   "metadata": {},
   "source": [
    "### Label Type12"
   ]
  },
  {
   "cell_type": "code",
   "execution_count": 11,
   "metadata": {},
   "outputs": [
    {
     "name": "stdout",
     "output_type": "stream",
     "text": [
      "0.7142814180947457 [933.3469351] -46.20431057655082\n",
      "0.9672480290388377 [58.38486187] 33.71710758397835\n"
     ]
    }
   ],
   "source": [
    "bs_list = bsinfo[(bsinfo['rutype']=='Type10') & (bsinfo['txpower']<8.04)]['bs'].unique()\n",
    "\n",
    "reg = regression_df[(regression_df['bs'].isin(bs_list)) & ((regression_df['load']<0.1))]\n",
    "X = reg['load'].values.reshape(-1, 1)\n",
    "y = reg['energy']\n",
    "linear_low = LinearRegression().fit(X, y)\n",
    "print(linear_low.score(X, y), linear_low.coef_, linear_low.intercept_)\n",
    "\n",
    "reg = regression_df[(regression_df['bs'].isin(bs_list)) & ((regression_df['load']>0.2))]\n",
    "X = reg['load'].values.reshape(-1, 1)\n",
    "y = reg['energy']\n",
    "linear_high = LinearRegression().fit(X, y)\n",
    "print(linear_high.score(X, y), linear_high.coef_, linear_high.intercept_)"
   ]
  },
  {
   "cell_type": "code",
   "execution_count": 12,
   "metadata": {},
   "outputs": [
    {
     "data": {
      "image/png": "[encoded data removed]",
      "text/plain": [
       "<Figure size 864x144 with 1 Axes>"
      ]
     },
     "metadata": {
      "needs_background": "light"
     },
     "output_type": "display_data"
    }
   ],
   "source": [
    "bs= 'B_855'\n",
    "base = cell[(cell['bs']==bs)].merge(energy,how='left',left_on=['bs','time'],right_on=['bs','time'])  \n",
    "energy_filled = []\n",
    "for val in base['load'].values:\n",
    "    if val>0.1: \n",
    "        energy_filled.append(val*120+40)\n",
    "    else:\n",
    "        energy_filled.append(30)        \n",
    "\n",
    "#append to new energy dataframe\n",
    "energy_bs = test[test['bs']==bs].copy()\n",
    "energy_bs['energy'] = energy_filled\n",
    "energy_new = energy_new.append(energy_bs[['time','bs','energy']])\n",
    "\n",
    "plot_base(bs,base['time'].values,base['load'].values,energy_filled)      "
   ]
  },
  {
   "cell_type": "markdown",
   "metadata": {},
   "source": [
    "## Preprocessing"
   ]
  },
  {
   "cell_type": "code",
   "execution_count": 13,
   "metadata": {},
   "outputs": [
    {
     "name": "stdout",
     "output_type": "stream",
     "text": [
      "(118768, 20)\n"
     ]
    }
   ],
   "source": [
    "#list of seen and unseen base stations\n",
    "unseen_bs = test['bs'].unique()[~np.isin(test['bs'].unique(),energy['bs'].unique())].tolist()+['B_854','B_835']\n",
    "seen_bs = test[~test['bs'].isin(unseen_bs)]['bs'].unique().tolist()\n",
    "\n",
    "#pivot the table to align the cell0, cell1\n",
    "cell = cell.merge(bsinfo[['frequency','bandwidth','antennas', 'txpower','bs','cellname']], how='left', on =['bs','cellname'])\n",
    "cell_pivot = cell.pivot(index=['time','bs'], columns='cellname')\n",
    "cell_pivot.columns = [x[1]+'_'+x[0] for x in cell_pivot.columns]\n",
    "cell_pivot = cell_pivot.reset_index()\n",
    "cell_pivot = cell_pivot.drop([x for x in cell_pivot.columns if x.find('Cell2')==0 or x.find('Cell3')==0], axis=1)\n",
    "\n",
    "print(cell_pivot.shape)"
   ]
  },
  {
   "cell_type": "code",
   "execution_count": 14,
   "metadata": {},
   "outputs": [],
   "source": [
    "#merge cell, energy and config group together\n",
    "all_df = cell_pivot.merge(bsinfo_agg[['mode','rutype','cell_count','antenna-txpower','freq-band']], how='left', left_on='bs', right_index=True)\n",
    "all_df = all_df.merge(nn_df[['config_group']], how='left', left_on='bs', right_index=True)\n",
    "all_df = all_df.merge(pd.concat([energy,energy_new]), how='left', left_on=['time','bs'], right_on=['time','bs'])\n",
    "\n",
    "#categorical features\n",
    "all_df['hour'] = all_df['time'].dt.hour.astype('category')\n",
    "all_df['day'] = all_df['time'].dt.day.astype('category')\n",
    "all_df['mode'] = all_df['mode'].astype('category')\n",
    "all_df['rutype'] = all_df['rutype'].astype('category')\n",
    "all_df['bs_encode'] = all_df['bs'].astype('category')\n",
    "all_df['antenna-txpower'] = all_df['antenna-txpower'].astype('category')\n",
    "all_df['freq-band'] = all_df['freq-band'].astype('category')\n",
    "\n",
    "test_df = test[['time','bs']].merge(all_df, how='left',on=['time','bs'])"
   ]
  },
  {
   "cell_type": "markdown",
   "metadata": {},
   "source": [
    "## Training for seen stations\n",
    "\n",
    "* The strong features are the config_group, bs_encode(station_id encoded), load of Cell0.\n",
    "* Config_group: the group that members have same configurations.\n",
    "* bs_encode. For some stations (especially for older rutypes like Type1), even if they have same configurations and load, the energy consumption could be in different ranges. It seems there is some hidden configurations or other factors not included in the dataset may impact the strength of the energy. So we have to use the station identities to include this information."
   ]
  },
  {
   "cell_type": "code",
   "execution_count": 15,
   "metadata": {},
   "outputs": [
    {
     "name": "stdout",
     "output_type": "stream",
     "text": [
      "training shape:(92579, 27)\n",
      "fold:0\n",
      "Training until validation scores don't improve for 200 rounds\n",
      "[5000]\ttraining's l1: 0.945365\tvalid_1's l1: 1.12881\n",
      "[10000]\ttraining's l1: 0.760829\tvalid_1's l1: 1.06697\n",
      "Early stopping, best iteration is:\n",
      "[12107]\ttraining's l1: 0.712391\tvalid_1's l1: 1.05979\n",
      "fold:1\n",
      "Training until validation scores don't improve for 200 rounds\n",
      "[5000]\ttraining's l1: 0.937179\tvalid_1's l1: 1.09325\n",
      "[10000]\ttraining's l1: 0.764383\tvalid_1's l1: 1.0363\n",
      "Early stopping, best iteration is:\n",
      "[11626]\ttraining's l1: 0.725488\tvalid_1's l1: 1.03001\n",
      "fold:2\n",
      "Training until validation scores don't improve for 200 rounds\n",
      "[5000]\ttraining's l1: 0.935954\tvalid_1's l1: 1.14229\n",
      "[10000]\ttraining's l1: 0.757184\tvalid_1's l1: 1.07473\n",
      "Early stopping, best iteration is:\n",
      "[12725]\ttraining's l1: 0.69647\tvalid_1's l1: 1.06718\n",
      "fold:3\n",
      "Training until validation scores don't improve for 200 rounds\n",
      "[5000]\ttraining's l1: 0.936744\tvalid_1's l1: 1.10539\n",
      "[10000]\ttraining's l1: 0.757347\tvalid_1's l1: 1.04807\n",
      "Early stopping, best iteration is:\n",
      "[11082]\ttraining's l1: 0.7312\tvalid_1's l1: 1.04283\n",
      "fold:4\n",
      "Training until validation scores don't improve for 200 rounds\n",
      "[5000]\ttraining's l1: 0.950263\tvalid_1's l1: 1.11211\n",
      "[10000]\ttraining's l1: 0.765488\tvalid_1's l1: 1.0506\n",
      "Early stopping, best iteration is:\n",
      "[12725]\ttraining's l1: 0.70645\tvalid_1's l1: 1.04186\n",
      "fold:5\n",
      "Training until validation scores don't improve for 200 rounds\n",
      "[5000]\ttraining's l1: 0.938416\tvalid_1's l1: 1.11409\n",
      "[10000]\ttraining's l1: 0.762493\tvalid_1's l1: 1.0581\n",
      "Early stopping, best iteration is:\n",
      "[12818]\ttraining's l1: 0.705592\tvalid_1's l1: 1.05262\n",
      "fold:6\n",
      "Training until validation scores don't improve for 200 rounds\n",
      "[5000]\ttraining's l1: 0.93239\tvalid_1's l1: 1.09534\n",
      "[10000]\ttraining's l1: 0.758504\tvalid_1's l1: 1.04273\n",
      "Early stopping, best iteration is:\n",
      "[10724]\ttraining's l1: 0.741468\tvalid_1's l1: 1.04058\n",
      "fold:7\n",
      "Training until validation scores don't improve for 200 rounds\n",
      "[5000]\ttraining's l1: 0.936263\tvalid_1's l1: 1.09749\n",
      "[10000]\ttraining's l1: 0.761772\tvalid_1's l1: 1.04471\n",
      "Early stopping, best iteration is:\n",
      "[13463]\ttraining's l1: 0.688594\tvalid_1's l1: 1.03116\n",
      "fold:8\n",
      "Training until validation scores don't improve for 200 rounds\n",
      "[5000]\ttraining's l1: 0.933583\tvalid_1's l1: 1.1028\n",
      "[10000]\ttraining's l1: 0.757422\tvalid_1's l1: 1.04464\n",
      "Early stopping, best iteration is:\n",
      "[12284]\ttraining's l1: 0.707497\tvalid_1's l1: 1.03934\n",
      "fold:9\n",
      "Training until validation scores don't improve for 200 rounds\n",
      "[5000]\ttraining's l1: 0.946243\tvalid_1's l1: 1.07141\n",
      "[10000]\ttraining's l1: 0.769385\tvalid_1's l1: 1.00751\n",
      "Early stopping, best iteration is:\n",
      "[11818]\ttraining's l1: 0.729691\tvalid_1's l1: 1.00288\n",
      "1.0408269438734874 0.016885358605477647\n"
     ]
    }
   ],
   "source": [
    "n_splits = 10\n",
    "\n",
    "train_df = all_df[(all_df['energy'].notna()) & (all_df['bs'].isin(seen_bs))].copy()\n",
    "dropped = ['time','bs','energy']\n",
    "seen_features = [x for x in train_df.columns if x not in dropped]\n",
    "\n",
    "params = {'boost': 'gbdt', 'feature_fraction': 0.7,   'learning_rate': 0.03,   'max_depth': 6,                       \n",
    "      'objective': 'huber', 'metric': 'l1',  'verbosity': -1, 'random_state':42}\n",
    "\n",
    "print(f\"training shape:{train_df[seen_features].shape}\")\n",
    "fi, oof, seen_models, fold_scores = lgbm_cv(train_df, train_df['energy'].values, seen_features, n_splits = n_splits, params=params,shuffle=True, kfold = True)\n",
    "print(np.mean(fold_scores), np.std(fold_scores))"
   ]
  },
  {
   "cell_type": "markdown",
   "metadata": {},
   "source": [
    "### The importance of all 27 features"
   ]
  },
  {
   "cell_type": "code",
   "execution_count": 16,
   "metadata": {},
   "outputs": [
    {
     "data": {
      "text/html": [
       "<div>\n",
       "<style scoped>\n",
       "    .dataframe tbody tr th:only-of-type {\n",
       "        vertical-align: middle;\n",
       "    }\n",
       "\n",
       "    .dataframe tbody tr th {\n",
       "        vertical-align: top;\n",
       "    }\n",
       "\n",
       "    .dataframe thead th {\n",
       "        text-align: right;\n",
       "    }\n",
       "</style>\n",
       "<table border=\"1\" class=\"dataframe\">\n",
       "  <thead>\n",
       "    <tr style=\"text-align: right;\">\n",
       "      <th></th>\n",
       "      <th>importance</th>\n",
       "    </tr>\n",
       "    <tr>\n",
       "      <th>feature</th>\n",
       "      <th></th>\n",
       "    </tr>\n",
       "  </thead>\n",
       "  <tbody>\n",
       "    <tr>\n",
       "      <th>config_group</th>\n",
       "      <td>15.9339</td>\n",
       "    </tr>\n",
       "    <tr>\n",
       "      <th>bs_encode</th>\n",
       "      <td>15.5748</td>\n",
       "    </tr>\n",
       "    <tr>\n",
       "      <th>Cell0_load</th>\n",
       "      <td>15.2712</td>\n",
       "    </tr>\n",
       "    <tr>\n",
       "      <th>rutype</th>\n",
       "      <td>14.7784</td>\n",
       "    </tr>\n",
       "    <tr>\n",
       "      <th>hour</th>\n",
       "      <td>14.1818</td>\n",
       "    </tr>\n",
       "    <tr>\n",
       "      <th>cell_count</th>\n",
       "      <td>13.4669</td>\n",
       "    </tr>\n",
       "    <tr>\n",
       "      <th>Cell0_esmode1</th>\n",
       "      <td>12.8720</td>\n",
       "    </tr>\n",
       "    <tr>\n",
       "      <th>antenna-txpower</th>\n",
       "      <td>12.5998</td>\n",
       "    </tr>\n",
       "    <tr>\n",
       "      <th>freq-band</th>\n",
       "      <td>12.0707</td>\n",
       "    </tr>\n",
       "    <tr>\n",
       "      <th>Cell0_esmode2</th>\n",
       "      <td>11.5944</td>\n",
       "    </tr>\n",
       "    <tr>\n",
       "      <th>day</th>\n",
       "      <td>11.3819</td>\n",
       "    </tr>\n",
       "    <tr>\n",
       "      <th>Cell0_antennas</th>\n",
       "      <td>11.1537</td>\n",
       "    </tr>\n",
       "    <tr>\n",
       "      <th>Cell1_load</th>\n",
       "      <td>11.0914</td>\n",
       "    </tr>\n",
       "    <tr>\n",
       "      <th>Cell0_frequency</th>\n",
       "      <td>10.4224</td>\n",
       "    </tr>\n",
       "    <tr>\n",
       "      <th>Cell0_esmode6</th>\n",
       "      <td>10.2149</td>\n",
       "    </tr>\n",
       "    <tr>\n",
       "      <th>Cell0_txpower</th>\n",
       "      <td>10.0038</td>\n",
       "    </tr>\n",
       "    <tr>\n",
       "      <th>Cell1_esmode6</th>\n",
       "      <td>9.9885</td>\n",
       "    </tr>\n",
       "    <tr>\n",
       "      <th>Cell0_bandwidth</th>\n",
       "      <td>9.0503</td>\n",
       "    </tr>\n",
       "    <tr>\n",
       "      <th>Cell0_esmode3</th>\n",
       "      <td>8.6003</td>\n",
       "    </tr>\n",
       "    <tr>\n",
       "      <th>Cell1_frequency</th>\n",
       "      <td>8.0110</td>\n",
       "    </tr>\n",
       "    <tr>\n",
       "      <th>Cell1_txpower</th>\n",
       "      <td>7.7415</td>\n",
       "    </tr>\n",
       "    <tr>\n",
       "      <th>Cell1_antennas</th>\n",
       "      <td>7.2706</td>\n",
       "    </tr>\n",
       "    <tr>\n",
       "      <th>Cell1_bandwidth</th>\n",
       "      <td>7.1708</td>\n",
       "    </tr>\n",
       "    <tr>\n",
       "      <th>Cell1_esmode1</th>\n",
       "      <td>7.1090</td>\n",
       "    </tr>\n",
       "    <tr>\n",
       "      <th>Cell1_esmode3</th>\n",
       "      <td>6.2126</td>\n",
       "    </tr>\n",
       "    <tr>\n",
       "      <th>Cell1_esmode2</th>\n",
       "      <td>6.0956</td>\n",
       "    </tr>\n",
       "    <tr>\n",
       "      <th>mode</th>\n",
       "      <td>4.7342</td>\n",
       "    </tr>\n",
       "  </tbody>\n",
       "</table>\n",
       "</div>"
      ],
      "text/plain": [
       "                 importance\n",
       "feature                    \n",
       "config_group        15.9339\n",
       "bs_encode           15.5748\n",
       "Cell0_load          15.2712\n",
       "rutype              14.7784\n",
       "hour                14.1818\n",
       "cell_count          13.4669\n",
       "Cell0_esmode1       12.8720\n",
       "antenna-txpower     12.5998\n",
       "freq-band           12.0707\n",
       "Cell0_esmode2       11.5944\n",
       "day                 11.3819\n",
       "Cell0_antennas      11.1537\n",
       "Cell1_load          11.0914\n",
       "Cell0_frequency     10.4224\n",
       "Cell0_esmode6       10.2149\n",
       "Cell0_txpower       10.0038\n",
       "Cell1_esmode6        9.9885\n",
       "Cell0_bandwidth      9.0503\n",
       "Cell0_esmode3        8.6003\n",
       "Cell1_frequency      8.0110\n",
       "Cell1_txpower        7.7415\n",
       "Cell1_antennas       7.2706\n",
       "Cell1_bandwidth      7.1708\n",
       "Cell1_esmode1        7.1090\n",
       "Cell1_esmode3        6.2126\n",
       "Cell1_esmode2        6.0956\n",
       "mode                 4.7342"
      ]
     },
     "execution_count": 16,
     "metadata": {},
     "output_type": "execute_result"
    }
   ],
   "source": [
    "fi"
   ]
  },
  {
   "cell_type": "markdown",
   "metadata": {},
   "source": [
    "## Training for unseen stations\n",
    "\n",
    "* We have to remove the config_group and bs_encode and let the models learn for unseen stations just with configurations."
   ]
  },
  {
   "cell_type": "code",
   "execution_count": 17,
   "metadata": {},
   "outputs": [
    {
     "name": "stdout",
     "output_type": "stream",
     "text": [
      "training shape:(92700, 25)\n",
      "fold:0\n",
      "Training until validation scores don't improve for 200 rounds\n",
      "[5000]\ttraining's l1: 2.33469\tvalid_1's l1: 2.41341\n",
      "Early stopping, best iteration is:\n",
      "[7636]\ttraining's l1: 2.30195\tvalid_1's l1: 2.40331\n",
      "fold:1\n",
      "Training until validation scores don't improve for 200 rounds\n",
      "[5000]\ttraining's l1: 2.32227\tvalid_1's l1: 2.43201\n",
      "Early stopping, best iteration is:\n",
      "[5621]\ttraining's l1: 2.31099\tvalid_1's l1: 2.42979\n",
      "fold:2\n",
      "Training until validation scores don't improve for 200 rounds\n",
      "Early stopping, best iteration is:\n",
      "[4599]\ttraining's l1: 2.32575\tvalid_1's l1: 2.4422\n",
      "fold:3\n",
      "Training until validation scores don't improve for 200 rounds\n",
      "[5000]\ttraining's l1: 2.3212\tvalid_1's l1: 2.41341\n",
      "Early stopping, best iteration is:\n",
      "[6194]\ttraining's l1: 2.30499\tvalid_1's l1: 2.41194\n",
      "fold:4\n",
      "Training until validation scores don't improve for 200 rounds\n",
      "[5000]\ttraining's l1: 2.32309\tvalid_1's l1: 2.41121\n",
      "Early stopping, best iteration is:\n",
      "[6728]\ttraining's l1: 2.30054\tvalid_1's l1: 2.40736\n",
      "2.4189184159684785 0.01473710109097016\n"
     ]
    }
   ],
   "source": [
    "n_splits = 5\n",
    "\n",
    "train_df = all_df[(all_df['energy'].notna())].copy()\n",
    "dropped = ['time','bs','energy','config_group','bs_encode']\n",
    "unseen_features = [x for x in train_df.columns if x not in dropped]\n",
    "\n",
    "params = {'boost': 'gbdt', 'feature_fraction': 0.7,   'learning_rate': 0.03,   'max_depth': 6,                       \n",
    "          'objective': 'huber', 'metric': 'l1',  'verbosity': -1, 'random_state':42}\n",
    "\n",
    "print(f\"training shape:{train_df[unseen_features].shape}\")\n",
    "\n",
    "fi, oof, unseen_models, fold_scores = lgbm_cv(train_df, train_df['energy'].values, unseen_features, n_splits = n_splits,\n",
    "                       params=params, shuffle=True, kfold = True)\n",
    "\n",
    "print(np.mean(fold_scores), np.std(fold_scores))"
   ]
  },
  {
   "cell_type": "markdown",
   "metadata": {},
   "source": [
    "### Top 10 important features"
   ]
  },
  {
   "cell_type": "code",
   "execution_count": 18,
   "metadata": {},
   "outputs": [
    {
     "data": {
      "text/html": [
       "<div>\n",
       "<style scoped>\n",
       "    .dataframe tbody tr th:only-of-type {\n",
       "        vertical-align: middle;\n",
       "    }\n",
       "\n",
       "    .dataframe tbody tr th {\n",
       "        vertical-align: top;\n",
       "    }\n",
       "\n",
       "    .dataframe thead th {\n",
       "        text-align: right;\n",
       "    }\n",
       "</style>\n",
       "<table border=\"1\" class=\"dataframe\">\n",
       "  <thead>\n",
       "    <tr style=\"text-align: right;\">\n",
       "      <th></th>\n",
       "      <th>importance</th>\n",
       "    </tr>\n",
       "    <tr>\n",
       "      <th>feature</th>\n",
       "      <th></th>\n",
       "    </tr>\n",
       "  </thead>\n",
       "  <tbody>\n",
       "    <tr>\n",
       "      <th>rutype</th>\n",
       "      <td>15.8102</td>\n",
       "    </tr>\n",
       "    <tr>\n",
       "      <th>Cell0_load</th>\n",
       "      <td>15.4606</td>\n",
       "    </tr>\n",
       "    <tr>\n",
       "      <th>cell_count</th>\n",
       "      <td>14.3226</td>\n",
       "    </tr>\n",
       "    <tr>\n",
       "      <th>antenna-txpower</th>\n",
       "      <td>14.2790</td>\n",
       "    </tr>\n",
       "    <tr>\n",
       "      <th>hour</th>\n",
       "      <td>13.4883</td>\n",
       "    </tr>\n",
       "    <tr>\n",
       "      <th>freq-band</th>\n",
       "      <td>13.3508</td>\n",
       "    </tr>\n",
       "    <tr>\n",
       "      <th>Cell0_antennas</th>\n",
       "      <td>13.0093</td>\n",
       "    </tr>\n",
       "    <tr>\n",
       "      <th>Cell0_esmode1</th>\n",
       "      <td>12.3215</td>\n",
       "    </tr>\n",
       "    <tr>\n",
       "      <th>Cell0_txpower</th>\n",
       "      <td>11.9352</td>\n",
       "    </tr>\n",
       "    <tr>\n",
       "      <th>Cell1_load</th>\n",
       "      <td>11.5904</td>\n",
       "    </tr>\n",
       "  </tbody>\n",
       "</table>\n",
       "</div>"
      ],
      "text/plain": [
       "                 importance\n",
       "feature                    \n",
       "rutype              15.8102\n",
       "Cell0_load          15.4606\n",
       "cell_count          14.3226\n",
       "antenna-txpower     14.2790\n",
       "hour                13.4883\n",
       "freq-band           13.3508\n",
       "Cell0_antennas      13.0093\n",
       "Cell0_esmode1       12.3215\n",
       "Cell0_txpower       11.9352\n",
       "Cell1_load          11.5904"
      ]
     },
     "execution_count": 18,
     "metadata": {},
     "output_type": "execute_result"
    }
   ],
   "source": [
    "fi.head(10)"
   ]
  },
  {
   "cell_type": "markdown",
   "metadata": {},
   "source": [
    "## Submission"
   ]
  },
  {
   "cell_type": "code",
   "execution_count": 19,
   "metadata": {},
   "outputs": [],
   "source": [
    "#list of stations from seen and unseen rutyes\n",
    "unseen_rutype_bs =  bsinfo[bsinfo['rutype'].isin(['Type11','Type12'])]['bs'].unique()\n",
    "seen_rutype_bs =  bsinfo[~bsinfo['rutype'].isin(['Type11','Type12'])]['bs'].unique()\n",
    "\n",
    "#get prediction by the separated models \n",
    "unseen_pred = np.zeros(len(test_df[test_df['bs'].isin(unseen_rutype_bs)]))\n",
    "for model in unseen_models:\n",
    "    unseen_pred+=model.predict(test_df[test_df['bs'].isin(unseen_rutype_bs)][unseen_features])/len(unseen_models)  \n",
    "    \n",
    "seen_pred = np.zeros(len(test_df[test_df['bs'].isin(seen_rutype_bs)]))\n",
    "for model in seen_models:\n",
    "    seen_pred+=model.predict(test_df[test_df['bs'].isin(seen_rutype_bs)][seen_features])/len(seen_models)      \n",
    "    \n",
    "assert len(unseen_pred)+len(seen_pred) == len(test_df)    "
   ]
  },
  {
   "cell_type": "code",
   "execution_count": 20,
   "metadata": {},
   "outputs": [
    {
     "data": {
      "text/html": [
       "<div>\n",
       "<style scoped>\n",
       "    .dataframe tbody tr th:only-of-type {\n",
       "        vertical-align: middle;\n",
       "    }\n",
       "\n",
       "    .dataframe tbody tr th {\n",
       "        vertical-align: top;\n",
       "    }\n",
       "\n",
       "    .dataframe thead th {\n",
       "        text-align: right;\n",
       "    }\n",
       "</style>\n",
       "<table border=\"1\" class=\"dataframe\">\n",
       "  <thead>\n",
       "    <tr style=\"text-align: right;\">\n",
       "      <th></th>\n",
       "      <th>ID</th>\n",
       "      <th>Energy</th>\n",
       "    </tr>\n",
       "  </thead>\n",
       "  <tbody>\n",
       "    <tr>\n",
       "      <th>0</th>\n",
       "      <td>2023-01-01 01:00:00_B_769</td>\n",
       "      <td>31.3994</td>\n",
       "    </tr>\n",
       "    <tr>\n",
       "      <th>1</th>\n",
       "      <td>2023-01-01 01:00:00_B_378</td>\n",
       "      <td>27.6651</td>\n",
       "    </tr>\n",
       "    <tr>\n",
       "      <th>2</th>\n",
       "      <td>2023-01-01 01:00:00_B_492</td>\n",
       "      <td>20.8550</td>\n",
       "    </tr>\n",
       "    <tr>\n",
       "      <th>3</th>\n",
       "      <td>2023-01-01 01:00:00_B_701</td>\n",
       "      <td>32.5804</td>\n",
       "    </tr>\n",
       "    <tr>\n",
       "      <th>4</th>\n",
       "      <td>2023-01-01 01:00:00_B_380</td>\n",
       "      <td>18.4417</td>\n",
       "    </tr>\n",
       "  </tbody>\n",
       "</table>\n",
       "</div>"
      ],
      "text/plain": [
       "                          ID  Energy\n",
       "0  2023-01-01 01:00:00_B_769 31.3994\n",
       "1  2023-01-01 01:00:00_B_378 27.6651\n",
       "2  2023-01-01 01:00:00_B_492 20.8550\n",
       "3  2023-01-01 01:00:00_B_701 32.5804\n",
       "4  2023-01-01 01:00:00_B_380 18.4417"
      ]
     },
     "execution_count": 20,
     "metadata": {},
     "output_type": "execute_result"
    }
   ],
   "source": [
    "submission = test_df[['time','bs']].copy()\n",
    "\n",
    "submission.loc[submission['bs'].isin(unseen_rutype_bs),'Energy'] = unseen_pred\n",
    "submission.loc[submission['bs'].isin(seen_rutype_bs),'Energy'] = seen_pred\n",
    "\n",
    "submission['ID'] = submission['time'].astype(str)+'_'+submission['bs']\n",
    "submission[['ID','Energy']].to_csv('submission.csv', index=False)\n",
    "submission[['ID','Energy']].head()"
   ]
  }
 ],
 "metadata": {
  "kernelspec": {
   "display_name": "python3.7-virtualenv",
   "language": "python",
   "name": "python3.7-virtualenv"
  },
  "language_info": {
   "codemirror_mode": {
    "name": "ipython",
    "version": 3
   },
   "file_extension": ".py",
   "mimetype": "text/x-python",
   "name": "python",
   "nbconvert_exporter": "python",
   "pygments_lexer": "ipython3",
   "version": "3.7.5"
  },
  "toc": {
   "base_numbering": 1,
   "nav_menu": {},
   "number_sections": true,
   "sideBar": true,
   "skip_h1_title": true,
   "title_cell": "Table of Contents",
   "title_sidebar": "Contents",
   "toc_cell": true,
   "toc_position": {},
   "toc_section_display": true,
   "toc_window_display": false
  }
 },
 "nbformat": 4,
 "nbformat_minor": 4
}
